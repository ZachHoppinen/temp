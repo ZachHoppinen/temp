{
 "cells": [
  {
   "cell_type": "markdown",
   "metadata": {},
   "source": [
    "### Get all available data from Bogus Basin Site WWA01 from MesoWest\n",
    "\n",
    "https://mesowest.utah.edu/cgi-bin/droman/meso_base_dyn.cgi?stn=WWA01\n",
    "\n",
    "using: https://developers.synopticdata.com/mesonet/v2/stations/timeseries/"
   ]
  },
  {
   "cell_type": "code",
   "execution_count": 100,
   "metadata": {},
   "outputs": [],
   "source": [
    "import requests\n",
    "import pandas as pd\n",
    "import pickle\n",
    "from os.path import join"
   ]
  },
  {
   "cell_type": "code",
   "execution_count": 101,
   "metadata": {},
   "outputs": [],
   "source": [
    "token = '0191c61bf7914bd49b8bd7a98abb9469'\n",
    "stid = 'WWA01'\n",
    "start = '202010010000'\n",
    "end = '202206010000'\n",
    "\n",
    "data_dir = '/Users/zachkeskinen/Documents/temp/data'"
   ]
  },
  {
   "cell_type": "code",
   "execution_count": 74,
   "metadata": {},
   "outputs": [],
   "source": [
    "call = f'https://api.synopticdata.com/v2/stations/timeseries?stid={stid}&start={start}&end={end}&token={token}&output=json'\n",
    "\n",
    "r = requests.get(call)\n",
    "j = r.json()"
   ]
  },
  {
   "cell_type": "code",
   "execution_count": 94,
   "metadata": {},
   "outputs": [],
   "source": [
    "hdr = pd.json_normalize(j, 'STATION')\n",
    "units = j['UNITS']"
   ]
  },
  {
   "cell_type": "code",
   "execution_count": 77,
   "metadata": {},
   "outputs": [],
   "source": [
    "df = pd.DataFrame.from_dict(j['STATION'][0]['OBSERVATIONS'])"
   ]
  },
  {
   "cell_type": "code",
   "execution_count": 83,
   "metadata": {},
   "outputs": [],
   "source": [
    "df.loc[:, 'date_time'] = pd.to_datetime(df.date_time)\n",
    "df = df.set_index('date_time')\n",
    "for col in df.columns:\n",
    "    try:\n",
    "        df.loc[:,col] = df.loc[:,col].astype(float)\n",
    "    except:\n",
    "        pass\n",
    "df.attrs['units'] = units\n",
    "df.attrs['hdr'] = hdr"
   ]
  },
  {
   "cell_type": "code",
   "execution_count": 98,
   "metadata": {},
   "outputs": [],
   "source": [
    "df.attrs['units'] = units\n",
    "df.attrs['hdr'] = hdr"
   ]
  },
  {
   "cell_type": "code",
   "execution_count": 103,
   "metadata": {},
   "outputs": [],
   "source": [
    "with open(join(data_dir, 'wx', 'wwa01.pkl'), 'wb') as f:\n",
    "    pickle.dump(df, f)"
   ]
  }
 ],
 "metadata": {
  "kernelspec": {
   "display_name": "Python 3.9.13 ('temp')",
   "language": "python",
   "name": "python3"
  },
  "language_info": {
   "codemirror_mode": {
    "name": "ipython",
    "version": 3
   },
   "file_extension": ".py",
   "mimetype": "text/x-python",
   "name": "python",
   "nbconvert_exporter": "python",
   "pygments_lexer": "ipython3",
   "version": "3.9.13"
  },
  "orig_nbformat": 4,
  "vscode": {
   "interpreter": {
    "hash": "d7b1e5c62a2c473925a23c7d2d392c0d65c1caf62ae1ac8cd74788caf27da5a4"
   }
  }
 },
 "nbformat": 4,
 "nbformat_minor": 2
}
